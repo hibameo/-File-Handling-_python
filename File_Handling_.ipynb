{
  "nbformat": 4,
  "nbformat_minor": 0,
  "metadata": {
    "colab": {
      "provenance": [],
      "authorship_tag": "ABX9TyPHo9EjNge+e6yfgC3UZPAL",
      "include_colab_link": true
    },
    "kernelspec": {
      "name": "python3",
      "display_name": "Python 3"
    },
    "language_info": {
      "name": "python"
    }
  },
  "cells": [
    {
      "cell_type": "markdown",
      "metadata": {
        "id": "view-in-github",
        "colab_type": "text"
      },
      "source": [
        "<a href=\"https://colab.research.google.com/github/hibameo/-File-Handling-_python/blob/main/File_Handling_.ipynb\" target=\"_parent\"><img src=\"https://colab.research.google.com/assets/colab-badge.svg\" alt=\"Open In Colab\"/></a>"
      ]
    },
    {
      "cell_type": "markdown",
      "source": [
        "File handling Python mein ek ahem concept hai jo humein files ko read, write, update, aur delete karne ki sahulat deta hai. Jab aapko data ko external file mein store karna ho, toh file handling use hoti hai. Python mein file handling ke liye built-in functions aur methods available hote hain.\n",
        "\n",
        "Yeh kuch basic file handling operations hain jo aapko samajhne mein madad denge:"
      ],
      "metadata": {
        "id": "Yj59_am3Fu_r"
      }
    },
    {
      "cell_type": "markdown",
      "source": [
        "1. Opening a File"
      ],
      "metadata": {
        "id": "EdD_yYPwFyC3"
      }
    },
    {
      "cell_type": "markdown",
      "source": [
        "File ko open karte waqt humein ek mode specify karna padta hai. Kuch common modes hain:"
      ],
      "metadata": {
        "id": "isaNhJR4F0zR"
      }
    },
    {
      "cell_type": "markdown",
      "source": [
        ". 'r' : Read mode (default) – Sirf file ko padh sakte hain."
      ],
      "metadata": {
        "id": "zEaRq-ZkF-om"
      }
    },
    {
      "cell_type": "markdown",
      "source": [
        " .'w' : Write mode – Agar file exist nahi karti, toh yeh nayi file create karta hai. Agar file already exist karti hai, toh purani file ka content overwrite kar deta hai"
      ],
      "metadata": {
        "id": "yu5lsdHlGI5H"
      }
    },
    {
      "cell_type": "markdown",
      "source": [
        ". 'a' : Append mode – File ke end mein naye data ko append karta hai, purani file ko overwrite nahi karta."
      ],
      "metadata": {
        "id": "qhC4jpJrGL46"
      }
    },
    {
      "cell_type": "markdown",
      "source": [
        "\n",
        ". 'x' : Exclusive creation – Agar file already exist karti hai, toh error throw karega."
      ],
      "metadata": {
        "id": "EyCRxNeEGVLH"
      }
    },
    {
      "cell_type": "markdown",
      "source": [
        ". 'b' : Binary mode – File ko binary format mein open karta hai."
      ],
      "metadata": {
        "id": "KHgjKLLoGcZJ"
      }
    },
    {
      "cell_type": "markdown",
      "source": [
        ". 't' : Text mode (default) – File ko text mode mein open karta hai."
      ],
      "metadata": {
        "id": "kPqF55hdGffA"
      }
    },
    {
      "cell_type": "code",
      "source": [
        "# Opening a file in read mode\n",
        "\n",
        "#file = open(\"example.txt\", \"r\")\n"
      ],
      "metadata": {
        "id": "qJmm6afeGjrq"
      },
      "execution_count": 2,
      "outputs": []
    },
    {
      "cell_type": "markdown",
      "source": [
        "2. Reading from a File"
      ],
      "metadata": {
        "id": "ktkqFYVuGoSs"
      }
    },
    {
      "cell_type": "markdown",
      "source": [
        "Ek file se data read karne ke liye read(), readline(), ya readlines() methods ka use hota hai:"
      ],
      "metadata": {
        "id": "bTQX55tzG0Yq"
      }
    },
    {
      "cell_type": "markdown",
      "source": [
        "read() : Pure file ka content ek string ke roop mein return karta hai."
      ],
      "metadata": {
        "id": "TjwTozNgG4gO"
      }
    },
    {
      "cell_type": "markdown",
      "source": [
        "readline() : Ek line ko read karta hai."
      ],
      "metadata": {
        "id": "01nh3aY1G7XM"
      }
    },
    {
      "cell_type": "markdown",
      "source": [
        "readlines() : File ki har line ko ek list mein convert karta hai."
      ],
      "metadata": {
        "id": "WU0WUEDRG943"
      }
    },
    {
      "cell_type": "code",
      "source": [
        "# Reading all content from the file\n",
        "#content = file.read()\n",
        "#print(content)\n",
        "\n",
        "# Reading line by line\n",
        "#line = file.readline()\n",
        "#print(line)\n",
        "\n",
        "# Reading all lines as a list\n",
        "#lines = file.readlines()\n",
        "#print(lines)\n"
      ],
      "metadata": {
        "id": "rQEYQ4mDHAi0"
      },
      "execution_count": 4,
      "outputs": []
    },
    {
      "cell_type": "markdown",
      "source": [
        "3. Writing to a File\n"
      ],
      "metadata": {
        "id": "P6YAFy_YHMZW"
      }
    },
    {
      "cell_type": "markdown",
      "source": [
        "Agar aapko file mein data likhna ho, toh aap write() ya writelines() methods ka use karte hain.\n",
        "\n"
      ],
      "metadata": {
        "id": "VSIYCJsyHPEA"
      }
    },
    {
      "cell_type": "markdown",
      "source": [
        "write() : Ek string ko file mein likhta hai.\n",
        "\n",
        "writelines() : Multiple lines ko ek saath file mein likhta hai."
      ],
      "metadata": {
        "id": "c0GgHmw1HRn4"
      }
    },
    {
      "cell_type": "code",
      "source": [
        "# Opening a file in write mode\n",
        "file = open(\"example.txt\", \"w\")\n",
        "\n",
        "# Writing to the file\n",
        "file.write(\"Hello, this is a test file.\\n\")\n",
        "file.write(\"Second line of text.\\n\")\n",
        "\n",
        "# Writing multiple lines\n",
        "lines = [\"First line\\n\", \"Second line\\n\"]\n",
        "file.writelines(lines)\n"
      ],
      "metadata": {
        "id": "H1zkYeycHUID"
      },
      "execution_count": 5,
      "outputs": []
    },
    {
      "cell_type": "markdown",
      "source": [
        "4. Closing a File"
      ],
      "metadata": {
        "id": "N7hIOXLEHXlO"
      }
    },
    {
      "cell_type": "markdown",
      "source": [
        "Jab aap file se kaam kar lete hain, toh file ko close karna zaroori hota hai. File ko close karne ke liye close() method ka use karte hain."
      ],
      "metadata": {
        "id": "KRprVM3aHaMg"
      }
    },
    {
      "cell_type": "code",
      "source": [
        "file.close()\n"
      ],
      "metadata": {
        "id": "wIqQzxXRHeEj"
      },
      "execution_count": 6,
      "outputs": []
    },
    {
      "cell_type": "markdown",
      "source": [
        "5. Context Manager (with statement)\n"
      ],
      "metadata": {
        "id": "YN6x_NkgHhWw"
      }
    },
    {
      "cell_type": "markdown",
      "source": [
        "with statement ka use karna ek best practice hai. Isse file automatically close ho jaati hai, bina close() method call kiye."
      ],
      "metadata": {
        "id": "Lb4agT5AHkMl"
      }
    },
    {
      "cell_type": "code",
      "source": [
        "# Using with statement to automatically close the file\n",
        "with open(\"example.txt\", \"r\") as file:\n",
        "    content = file.read()\n",
        "    print(content)\n"
      ],
      "metadata": {
        "colab": {
          "base_uri": "https://localhost:8080/"
        },
        "id": "pPLa30XqHmP2",
        "outputId": "4b534050-a7d0-42c2-cae6-b24ecac5f0cd"
      },
      "execution_count": 7,
      "outputs": [
        {
          "output_type": "stream",
          "name": "stdout",
          "text": [
            "Hello, this is a test file.\n",
            "Second line of text.\n",
            "First line\n",
            "Second line\n",
            "\n"
          ]
        }
      ]
    },
    {
      "cell_type": "markdown",
      "source": [
        "6. File Existence Check"
      ],
      "metadata": {
        "id": "0drljqDTHp1p"
      }
    },
    {
      "cell_type": "markdown",
      "source": [
        "Agar aapko yeh check karna ho ke file exist karti hai ya nahi, toh os.path.exists() method ka use kar sakte hain."
      ],
      "metadata": {
        "id": "Em-HjQ34HsH2"
      }
    },
    {
      "cell_type": "code",
      "source": [
        "import os\n",
        "\n",
        "if os.path.exists(\"example.txt\"):\n",
        "    print(\"File exists\")\n",
        "else:\n",
        "    print(\"File does not exist\")\n"
      ],
      "metadata": {
        "colab": {
          "base_uri": "https://localhost:8080/"
        },
        "id": "2OXvQITcHuGh",
        "outputId": "dbd25a26-90f8-4ed7-d2b1-e3db824d9310"
      },
      "execution_count": 8,
      "outputs": [
        {
          "output_type": "stream",
          "name": "stdout",
          "text": [
            "File exists\n"
          ]
        }
      ]
    },
    {
      "cell_type": "markdown",
      "source": [
        "7. Handling Errors"
      ],
      "metadata": {
        "id": "lmxAjt6JHxkM"
      }
    },
    {
      "cell_type": "markdown",
      "source": [
        "File handling mein errors handle karna zaroori hai. Iske liye try aur except blocks ka use hota hai.\n",
        "\n"
      ],
      "metadata": {
        "id": "zJeWcRa2H0Co"
      }
    },
    {
      "cell_type": "code",
      "source": [
        "try:\n",
        "    file = open(\"example.txt\", \"r\")\n",
        "    content = file.read()\n",
        "    print(content)\n",
        "except FileNotFoundError:\n",
        "    print(\"File not found!\")\n",
        "finally:\n",
        "    file.close()\n"
      ],
      "metadata": {
        "colab": {
          "base_uri": "https://localhost:8080/"
        },
        "id": "giCtCEs7H4wK",
        "outputId": "1890c55a-9242-42ee-ac90-0fca29a7d1fa"
      },
      "execution_count": 9,
      "outputs": [
        {
          "output_type": "stream",
          "name": "stdout",
          "text": [
            "Hello, this is a test file.\n",
            "Second line of text.\n",
            "First line\n",
            "Second line\n",
            "\n"
          ]
        }
      ]
    }
  ]
}